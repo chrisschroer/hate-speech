{
 "cells": [
  {
   "cell_type": "code",
   "execution_count": 1,
   "metadata": {},
   "outputs": [],
   "source": [
    "%%capture\n",
    "\n",
    "# matplotlib inline plotting\n",
    "%matplotlib inline\n",
    "\n",
    "# activate jupyters tab completion\n",
    "%config IPCompleter.greedy=True\n",
    "\n",
    "%run utils/helper_final_presentation.py"
   ]
  },
  {
   "cell_type": "markdown",
   "metadata": {},
   "source": [
    "# Final Presentation for NOHATE Related snorkel Project\n",
    "\n",
    "- Christoph Geis-Schroer\n",
    "- Sebastian Jäger\n",
    "\n",
    "\n",
    "## Context Information\n",
    "\n",
    "- ~12k comments in German, different sources\n",
    "- 500 gold labels (at all, not per label)\n",
    "- different classes/types of hatespeech (e.g. Intelligenz, Beschimpfung, Entmenschlichung)\n",
    "\n",
    "\n",
    "### Goal of the Project\n",
    "\n",
    "- label 12k data set\n",
    "- infrastructure for future datasets\n",
    "\n",
    "\n",
    "## State at the Last Presentation\n",
    "\n",
    "- fullstack snorkel workflow\n",
    "    - dictionary and regex based candidate extraction (3 types of hate speech)\n",
    "    - few labeling functions\n",
    "    - trained fastText model\n",
    "- docker container\n"
   ]
  },
  {
   "cell_type": "markdown",
   "metadata": {},
   "source": [
    "## Structural Improvements\n",
    "\n",
    "- extendability\n",
    "- GitLab CI\n",
    "- Gold Label driven development"
   ]
  },
  {
   "cell_type": "markdown",
   "metadata": {},
   "source": [
    "### Easily Extendable Files - Candidates Example"
   ]
  },
  {
   "cell_type": "code",
   "execution_count": 2,
   "metadata": {},
   "outputs": [],
   "source": [
    "# Candidates\n",
    "Intelligenz_BB3c      = candidate_subclass('Intelligenz', ['signal_word'])\n",
    "WirkungaufBRD_BB3i    = candidate_subclass('WirkungaufBRD', ['signal_word'])\n",
    "Implikation_BB4       = candidate_subclass('Implikation', ['signal_word'])\n",
    "Beschimpfung_BB6a     = candidate_subclass('Beschimpfung', ['signal_word'])\n",
    "Entmenschlichung_BB6e = candidate_subclass('Entmenschlichung', ['signal_word'])\n",
    "\n",
    "\n",
    "# Regexes\n",
    "intelligenz_regex      = make_regex(intelligenz_signal_words)\n",
    "wirkungaufbrd_regex    = make_regex(wirkungaufbrd_signal_words)\n",
    "implikation_regex      = make_regex(implikation_signal_words)\n",
    "beschimpfung_regex     = make_regex(beschimpfung_signal_words, offense_signal_words, refugee_related_signal_words, negative_signal_words)\n",
    "entmenschlichung_regex = make_regex(entmenschlichung_signal_words, animal_signal_words)\n",
    "\n",
    "# pay attention: keep candidates in correct order.\n",
    "\n",
    "candidate_classes = [\n",
    "    Intelligenz_BB3c,\n",
    "    WirkungaufBRD_BB3i,\n",
    "    Implikation_BB4,\n",
    "    Beschimpfung_BB6a,\n",
    "    Entmenschlichung_BB6e\n",
    "]\n",
    "\n",
    "regex_classes = [\n",
    "    intelligenz_regex,\n",
    "    wirkungaufbrd_regex,\n",
    "    implikation_regex,\n",
    "    beschimpfung_regex,\n",
    "    entmenschlichung_regex\n",
    "]\n",
    "\n",
    "# create (candidate, regex) tuples, combines the above lists\n",
    "candidate_regex_tupels = [(candidate_class, candidate_regex) for candidate_class, candidate_regex in zip(candidate_classes, regex_classes)]"
   ]
  },
  {
   "cell_type": "markdown",
   "metadata": {},
   "source": [
    "### Gold Label Driven Development"
   ]
  },
  {
   "cell_type": "code",
   "execution_count": 3,
   "metadata": {},
   "outputs": [
    {
     "name": "stdout",
     "output_type": "stream",
     "text": [
      "Candidate Intelligenz:\n",
      "\n",
      "SnorkelLabel    0   1\n",
      "GoldLabel            \n",
      "0             411  24\n",
      "1              33  32\n",
      "\n",
      "Accuracy:\t0.886\n",
      "\n",
      "Precision per class [hate, no hate]:\t[0.571, 0.926]\n",
      "Recall per class [hate, no hate]:\t[0.492, 0.945]\n",
      "F1 score per class [hate, no hate]:\t[0.529, 0.935]\n"
     ]
    }
   ],
   "source": [
    "print(f\"Candidate {class_name_presentation}:\\n\")\n",
    "print(cross_tab_presentation)\n",
    "    \n",
    "print(f\"\\nAccuracy:\\t{float(format(candidate_accuracy_presentation, '.3f'))}\\n\")\n",
    "print(f\"Precision per class [hate, no hate]:\\t{[float(format(x, '.3f')) for x in candidate_precision_presentation]}\")\n",
    "print(f\"Recall per class [hate, no hate]:\\t{[float(format(x, '.3f')) for x in candidate_recall_presentation]}\")\n",
    "print(f\"F1 score per class [hate, no hate]:\\t{[float(format(x, '.3f')) for x in candidate_f_score_presentation]}\")"
   ]
  },
  {
   "cell_type": "code",
   "execution_count": 4,
   "metadata": {},
   "outputs": [
    {
     "name": "stdout",
     "output_type": "stream",
     "text": [
      "Hate speech dimension: Intelligenz\n",
      "\n",
      "\n",
      "\tError Class: False Negative\n",
      "\n",
      "\n",
      "\t\tWenn diese Läute sich mal so auf die Strasse trauen würden um gegen die Gewalt zu Demonstrieren...und gegen die Ursachen dann hätten die wirklichen Nazis eine ganz kleine Plattform bzw Wirkungskreis... Aber das is den Kleberschnüfflern zu kompliziert.\n",
      "\n",
      "\t\tGianni sie haben recht, aber ich glaube nicht dass die Antifaschisten es selber merken dass sie die neuen Nazis sind.\n",
      "\n",
      "\n",
      "\tError Class: False Positive\n",
      "\n",
      "\n",
      "\t\tEs hilft nur Flüchtlinge rauswerfen Grenzen dicht und nur noch echte Fachkräfte mit Ausbildung den Deutschen Pass geben z.B. Arbeiter und Studenten aus Südkorea die eine ausgezeichnete Ausbildung haben und keine gewalttätige Dummköpfe sind\n",
      "\n",
      "\t\tEin Volksverdummungs Showdeal. Alles Show. Denn sie brauchen noch etwas Zeit, Deutschland zum Shithole zu machen.\n",
      "\n"
     ]
    }
   ],
   "source": [
    "# print the error classes\n",
    "for candidate_class in error_classes.keys():\n",
    "    \n",
    "    print(f\"Hate speech dimension: {candidate_class.__name__}\\n\")\n",
    "    \n",
    "    for error_class in error_classes[candidate_class].keys():\n",
    "        \n",
    "        documents = session.query(Document).filter(Document.id.in_(error_classes[candidate_class][error_class])).all()\n",
    "        \n",
    "        print(f\"\\n\\tError Class: {error_class}\\n\\n\")\n",
    "        \n",
    "        for document in documents[0:2]:\n",
    "        \n",
    "            print(f\"\\t\\t{' '.join(map(lambda x : x.text, document.get_children()))}\\n\")"
   ]
  },
  {
   "cell_type": "markdown",
   "metadata": {},
   "source": [
    "## Labeling Functions - Sample"
   ]
  },
  {
   "cell_type": "code",
   "execution_count": 5,
   "metadata": {},
   "outputs": [],
   "source": [
    "# \"Beschimpfung\" and person entity in sentence -> chance of offensive meaning\n",
    "def LF_Beschimpfung_and_Person(candidate):\n",
    "\n",
    "    if candidate.type == \"beschimpfung\":\n",
    "        if \"PERSON\" in candidate.get_parent().ner_tags:\n",
    "            return 1\n",
    "\n",
    "    return 0\n",
    "\n",
    "\n",
    "# Imperatives often used in Implikation\n",
    "def LF_imperative_in_sentence(candidate):\n",
    "    \n",
    "    if [item for item in candidate.get_parent().text if item in imperative_tags]:\n",
    "        return 1\n",
    "\n",
    "    return 0\n",
    "\n",
    "\n",
    "# Check for self-addressed signal words\n",
    "def LF_pronoun_before_signal_word(candidate):\n",
    "\n",
    "    words_left = get_attribute_to_left(candidate, window=5)\n",
    "    pos_tags_left = get_attribute_to_left(candidate, window=5, attribute=\"pos_tags\")\n",
    "    \n",
    "    # ref: 'Challenges for Toxic Comment Classification: An In-Depth Error Analysis' (https://arxiv.org/abs/1809.07572)\n",
    "    if \"ich\" in words_left or \"wir\" in words_left:\n",
    "        return -1\n",
    "\n",
    "    elif [item for item in pos_tags_left if item in pronoun_tags]:\n",
    "        return 1\n",
    "\n",
    "    return 0"
   ]
  },
  {
   "cell_type": "markdown",
   "metadata": {},
   "source": [
    "## Examples of False Positives and False Negatives"
   ]
  },
  {
   "cell_type": "markdown",
   "metadata": {},
   "source": [
    "Strategy: Looking for repeatingly occuring words / structural aspects / grammar"
   ]
  },
  {
   "cell_type": "code",
   "execution_count": 6,
   "metadata": {},
   "outputs": [
    {
     "name": "stdout",
     "output_type": "stream",
     "text": [
      "Hate speech dimension: Intelligenz\n",
      "\n",
      "\tEs hilft nur Flüchtlinge rauswerfen Grenzen dicht und nur noch echte Fachkräfte mit Ausbildung den Deutschen Pass geben z.B. Arbeiter und Studenten aus Südkorea die eine ausgezeichnete Ausbildung haben und keine gewalttätige Dummköpfe sind\n",
      "\n",
      "\t\tMarginal:   0.8078558264967886\n",
      "\t\tThreshold:  [ 0.19214417]\n",
      "\t\tPrediction: Hatespeech\n",
      "\t\tLabels:     [Label (LF_pronoun_before_signal_word = 1)]\n",
      "\n",
      "\n",
      "\tIch sehe da nur völlig hirntote und geistig zurückgebliebene linke Spinner!\n",
      "\n",
      "\t\tMarginal:   0.19214417350321134\n",
      "\t\tThreshold:  [ 0.19214417]\n",
      "\t\tPrediction: No Hatespeech\n",
      "\t\tLabels:     [Label (LF_pronoun_before_signal_word = -1)]\n",
      "\n",
      "\n",
      "------------------------------------------------------------------------------------------------\n",
      "\n",
      "\n"
     ]
    }
   ],
   "source": [
    "# print labeled candidates\n",
    "for index, candidate_class in enumerate(candidate_classes[0:1]):\n",
    "    candidates = session.query(candidate_class).all()\n",
    "    \n",
    "    print(f\"Hate speech dimension: {candidate_class.__name__}\\n\")\n",
    "    \n",
    "    for candidate, marginal in zip(candidates[0:2], marginals[index][0:2]):\n",
    "        \n",
    "        print(f\"\\t{candidate.get_parent().text}\\n\")\n",
    "        \n",
    "        threshold = candidate_thresholds[index]\n",
    "        \n",
    "        print(f\"\\t\\tMarginal:   {marginal}\")\n",
    "        print(f\"\\t\\tThreshold:  {threshold}\")\n",
    "        \n",
    "        if marginal > threshold:\n",
    "            print(f\"\\t\\tPrediction: Hatespeech\")\n",
    "        else:\n",
    "            print(f\"\\t\\tPrediction: No Hatespeech\")\n",
    "            \n",
    "        print(f\"\\t\\tLabels:     {candidate.labels}\\n\\n\")\n",
    "        \n",
    "    print('------------------------------------------------------------------------------------------------\\n\\n')"
   ]
  },
  {
   "cell_type": "markdown",
   "metadata": {},
   "source": [
    "## Use F1 score for a comparable threshold while improving with Goldlabel dataset"
   ]
  },
  {
   "cell_type": "code",
   "execution_count": 7,
   "metadata": {},
   "outputs": [
    {
     "data": {
      "image/png": "[encoded data removed]",
      "text/plain": [
       "<Figure size 432x288 with 1 Axes>"
      ]
     },
     "metadata": {
      "needs_background": "light"
     },
     "output_type": "display_data"
    }
   ],
   "source": [
    "for marginal in marginals[0:1]:\n",
    "    plt.hist(marginal, bins=20)\n",
    "    plt.show()"
   ]
  },
  {
   "cell_type": "code",
   "execution_count": 8,
   "metadata": {},
   "outputs": [
    {
     "data": {
      "image/png": "[encoded data removed]",
      "text/plain": [
       "<Figure size 432x288 with 1 Axes>"
      ]
     },
     "metadata": {
      "needs_background": "light"
     },
     "output_type": "display_data"
    }
   ],
   "source": [
    "#   f1 = 2*precision*recall/(precision+recall) # Calculate F1 score\n",
    "#   candidate_thresholds.append(thresholds[np.where(f1 == max(f1[(recall>0) & (recall < 1)]))]) # store threshold for highest F1 score with recall > 0 \n",
    "\n",
    "plt.plot(thresholds_plot_presentation, precision_presentation, color=\"red\") \n",
    "plt.plot(thresholds_plot_presentation, recall_presentation, color=\"blue\")\n",
    "plt.axvline(x=x_presentation)\n",
    "plt.show()"
   ]
  },
  {
   "cell_type": "markdown",
   "metadata": {},
   "source": [
    "## Challenging Error Classes\n",
    "\n",
    "(Challenges for Toxic Comment Classification: An In-Depth Error Analysis' (https://arxiv.org/abs/1809.07572))\n",
    "\n",
    "- Out of vocabulary: Germoney (ID: 1, 196)\n",
    "\n",
    "\n",
    "- Self-addressed signal words: \n",
    "    - \"weil wir dumm und träge sind\" (Because we are stupid and lazy) (ID 212)\n",
    "    - Tried to capture these with a labeling function and Spacy Tags -> Too little examples in dataset\n",
    "\n",
    "\n",
    "- Hard classification in codebook :\n",
    "    - DUMME Panzen (\"Dumb Fucks\") is active = Correct Intelligenz Candidate\n",
    "    - keine gewalttätige Dummköpfe (no violent fools) slightly passive = Incorrect Intelligenz Candidate\n",
    "\n",
    "\n",
    "- Sentence classified twice: One with, one without candidate gold label\n",
    "    - Das zeigt einfach nur das die Regierung langsam kalte Füße bekommt. Da wurden mal auf die schnelle Steuergelder locker gemacht um diese Demo's von gehirntoten Deutschen auf die Beine zu stellen. Es hat damals schon in Sachsen begonnen und es wird wieder so sein. (ID 61 - No Intelligenz-Label)\n",
    "    - Da wurden mal auf die schnelle Steuergelder locker gemacht um diese Demo's von gehirntoten Deutschen auf die Beine zu stellen. (ID 62 - Intelligenz-Label)\n",
    "\n",
    "\n",
    "- Generative Model\n",
    "    - Not completely comprehensive: We printed out the predicted label of the model and the result of our labeling functions for the candidates to get a feeling for which labeling functions have an impact and which not\n",
    "   "
   ]
  },
  {
   "cell_type": "markdown",
   "metadata": {},
   "source": [
    "## FastText Baseline Model\n",
    "\n",
    "Baseline Model received by Arndt Allhorn with different training and testing datasets"
   ]
  },
  {
   "cell_type": "code",
   "execution_count": 9,
   "metadata": {},
   "outputs": [
    {
     "name": "stdout",
     "output_type": "stream",
     "text": [
      "Accuracy: 0.286\n",
      "\n",
      "Precision per class [hate, no hate]:\t[0.99, 0.09]\n",
      "Recall per class [hate, no hate]:\t[0.232, 0.971]\n",
      "F1 score per class [hate, no hate]:\t[0.376, 0.165]\n",
      "\n"
     ]
    }
   ],
   "source": [
    "testset = gold_testset\n",
    "\n",
    "test_command = f'python ../code/utils/fasttext_testing.py \"$(cut -f 1 {testset})\" \"$(fasttext predict {base_model} {testset})\"'\n",
    "completed_process = subprocess.run(test_command, shell=True, check=True, encoding=\"utf-8\", stdout=subprocess.PIPE)\n",
    "\n",
    "print(completed_process.stdout)"
   ]
  },
  {
   "cell_type": "markdown",
   "metadata": {},
   "source": [
    "## Testing the baseline model with balanced data"
   ]
  },
  {
   "cell_type": "code",
   "execution_count": 10,
   "metadata": {},
   "outputs": [
    {
     "name": "stdout",
     "output_type": "stream",
     "text": [
      "Accuracy: 0.629\n",
      "\n",
      "Precision per class [hate, no hate]:\t[0.909, 0.576]\n",
      "Recall per class [hate, no hate]:\t[0.286, 0.971]\n",
      "F1 score per class [hate, no hate]:\t[0.435, 0.723]\n",
      "\n"
     ]
    }
   ],
   "source": [
    "testset = gold_balanced_testset\n",
    "\n",
    "test_command = f'python ../code/utils/fasttext_testing.py \"$(cut -f 1 {testset})\" \"$(fasttext predict {base_model} {testset})\"'\n",
    "completed_process = subprocess.run(test_command, shell=True, check=True, encoding=\"utf-8\", stdout=subprocess.PIPE)\n",
    "\n",
    "print(completed_process.stdout)"
   ]
  },
  {
   "cell_type": "markdown",
   "metadata": {},
   "source": [
    "## Train fastText model with silver labeled snorkel dataset"
   ]
  },
  {
   "cell_type": "code",
   "execution_count": 11,
   "metadata": {},
   "outputs": [],
   "source": [
    "#train_command = f\"fasttext supervised -input {snorkelt_trainset} -output {trained_model[:-4]}\"\n",
    "#completed_process = subprocess.run(train_command, shell=True, check=True)"
   ]
  },
  {
   "cell_type": "markdown",
   "metadata": {},
   "source": [
    "## Test fastText model with goldlabel dataset"
   ]
  },
  {
   "cell_type": "code",
   "execution_count": 12,
   "metadata": {},
   "outputs": [
    {
     "name": "stdout",
     "output_type": "stream",
     "text": [
      "Accuracy: 0.638\n",
      "\n",
      "Precision per class [hate, no hate]:\t[0.945, 0.102]\n",
      "Recall per class [hate, no hate]:\t[0.647, 0.514]\n",
      "F1 score per class [hate, no hate]:\t[0.768, 0.171]\n",
      "\n"
     ]
    }
   ],
   "source": [
    "testset = gold_testset\n",
    "\n",
    "test_command = f'python ../code/utils/fasttext_testing.py \"$(cut -f 1 {testset})\" \"$(fasttext predict {trained_model} {testset})\"'\n",
    "completed_process = subprocess.run(test_command, shell=True, check=True, encoding=\"utf-8\", stdout=subprocess.PIPE)\n",
    "\n",
    "print(completed_process.stdout)"
   ]
  },
  {
   "cell_type": "code",
   "execution_count": 13,
   "metadata": {},
   "outputs": [
    {
     "name": "stdout",
     "output_type": "stream",
     "text": [
      "Accuracy: 0.6\n",
      "\n",
      "Precision per class [hate, no hate]:\t[0.585, 0.621]\n",
      "Recall per class [hate, no hate]:\t[0.686, 0.514]\n",
      "F1 score per class [hate, no hate]:\t[0.632, 0.562]\n",
      "\n"
     ]
    }
   ],
   "source": [
    "testset = gold_balanced_testset\n",
    "\n",
    "test_command = f'python ../code/utils/fasttext_testing.py \"$(cut -f 1 {testset})\" \"$(fasttext predict {trained_model} {testset})\"'\n",
    "completed_process = subprocess.run(test_command, shell=True, check=True, encoding=\"utf-8\", stdout=subprocess.PIPE)\n",
    "\n",
    "print(completed_process.stdout)"
   ]
  },
  {
   "cell_type": "markdown",
   "metadata": {},
   "source": [
    "### Comparison of Baseline model and Silver Snorkel-Label model\n",
    "- Accuracy remains the same\n",
    "- Recall and F1-Score are increased: Roughly +20% - 40% increase"
   ]
  },
  {
   "cell_type": "markdown",
   "metadata": {},
   "source": [
    "| Model          | F1 imbalanced | F1 balanced |\n",
    "|----------------|---------------|-------------|\n",
    "| Baseline       |            0.376   |      0.435       |\n",
    "| Snorkel Labels |    0.768           |      0.632       |"
   ]
  },
  {
   "cell_type": "markdown",
   "metadata": {},
   "source": [
    "## Train with embeddings\n",
    "- Use pretrained fastText embeddings based on German Wikipedia corpus"
   ]
  },
  {
   "cell_type": "code",
   "execution_count": 14,
   "metadata": {},
   "outputs": [],
   "source": [
    "#train_command = f\"fasttext supervised -pretrainedVectors ../model/cc.de.300.vec -dim 300 -input {snorkelt_trainset} -output {trained_with_embeddings_model[:-4]}\"\n",
    "#completed_process = subprocess.run(train_command, shell=True, check=True)"
   ]
  },
  {
   "cell_type": "code",
   "execution_count": 15,
   "metadata": {},
   "outputs": [
    {
     "name": "stdout",
     "output_type": "stream",
     "text": [
      "Accuracy: 0.598\n",
      "\n",
      "Precision per class [hate, no hate]:\t[0.938, 0.088]\n",
      "Recall per class [hate, no hate]:\t[0.607, 0.486]\n",
      "F1 score per class [hate, no hate]:\t[0.737, 0.149]\n",
      "\n"
     ]
    }
   ],
   "source": [
    "testset = gold_testset\n",
    "\n",
    "test_command = f'python ../code/utils/fasttext_testing.py \"$(cut -f 1 {testset})\" \"$(fasttext predict {trained_with_embeddings_model} {testset})\"'\n",
    "completed_process = subprocess.run(test_command, shell=True, check=True, encoding=\"utf-8\", stdout=subprocess.PIPE)\n",
    "\n",
    "print(completed_process.stdout)"
   ]
  },
  {
   "cell_type": "code",
   "execution_count": 16,
   "metadata": {},
   "outputs": [
    {
     "name": "stdout",
     "output_type": "stream",
     "text": [
      "Accuracy: 0.514\n",
      "\n",
      "Precision per class [hate, no hate]:\t[0.514, 0.515]\n",
      "Recall per class [hate, no hate]:\t[0.543, 0.486]\n",
      "F1 score per class [hate, no hate]:\t[0.528, 0.5]\n",
      "\n"
     ]
    }
   ],
   "source": [
    "testset = gold_balanced_testset\n",
    "\n",
    "test_command = f'python ../code/utils/fasttext_testing.py \"$(cut -f 1 {testset})\" \"$(fasttext predict {trained_with_embeddings_model} {testset})\"'\n",
    "completed_process = subprocess.run(test_command, shell=True, check=True, encoding=\"utf-8\", stdout=subprocess.PIPE)\n",
    "\n",
    "print(completed_process.stdout)"
   ]
  },
  {
   "cell_type": "markdown",
   "metadata": {},
   "source": [
    "### Comparison of German embeddings + Snorkel-Labels and Silver Snorkel-Label model"
   ]
  },
  {
   "cell_type": "markdown",
   "metadata": {},
   "source": [
    "| Model          | F1 imbalanced | F1 balanced |\n",
    "|----------------|---------------|-------------|\n",
    "| German embeddings + Snorkel       |            0.737   |      0.528       |\n",
    "| Snorkel Labels |    0.768           |      0.632       |"
   ]
  },
  {
   "cell_type": "markdown",
   "metadata": {},
   "source": [
    "## Try to improve the model by use Arndts Training set and add snorkel data..."
   ]
  },
  {
   "cell_type": "code",
   "execution_count": 17,
   "metadata": {},
   "outputs": [],
   "source": [
    "add_snorkel_set_to_arndt_set()\n",
    "\n",
    "train_command = f\"fasttext supervised -input {joint_trainset} -output {joint_trained_model[:-4]}\"\n",
    "completed_process = subprocess.run(train_command, shell=True, check=True)"
   ]
  },
  {
   "cell_type": "code",
   "execution_count": 18,
   "metadata": {},
   "outputs": [
    {
     "name": "stdout",
     "output_type": "stream",
     "text": [
      "Accuracy: 0.573\n",
      "\n",
      "Precision per class [hate, no hate]:\t[0.958, 0.11]\n",
      "Recall per class [hate, no hate]:\t[0.565, 0.686]\n",
      "F1 score per class [hate, no hate]:\t[0.711, 0.189]\n",
      "\n"
     ]
    }
   ],
   "source": [
    "testset = gold_testset\n",
    "\n",
    "test_command = f'python ../code/utils/fasttext_testing.py \"$(cut -f 1 {testset})\" \"$(fasttext predict {joint_trained_model} {testset})\"'\n",
    "completed_process = subprocess.run(test_command, shell=True, check=True, encoding=\"utf-8\", stdout=subprocess.PIPE)\n",
    "\n",
    "print(completed_process.stdout)"
   ]
  },
  {
   "cell_type": "markdown",
   "metadata": {},
   "source": [
    "## Some Example Predictions"
   ]
  },
  {
   "cell_type": "code",
   "execution_count": 19,
   "metadata": {},
   "outputs": [
    {
     "name": "stdout",
     "output_type": "stream",
     "text": [
      "__label__nohate\t-- Eine junge Frau verlässt Deutschland, weil Deutschland mal wieder jedes kriminelle Assipack reinspazieren lässt.\n",
      "__label__nohate\t-- Der hat doch den A.... offen.\n",
      "__label__nohate\t-- Linker Abschaum!!\n",
      "__label__hate\t-- Ich mag alle menschen auch asylaten!\n",
      "__label__nohate\t-- Dieser Müll soll garnicht erst nach Deutschland hereingelassen werden\n",
      "__label__nohate\t-- Liebe <3\n",
      "__label__nohate\t-- Noch ein langweiliger Satz, der nichts zu sagen hat\n"
     ]
    }
   ],
   "source": [
    "predict_command = f\"fasttext predict {trained_model} {prediction_examples}\"\n",
    "completed_process = subprocess.run(predict_command, shell=True, check=True, encoding=\"utf-8\", stdout=subprocess.PIPE)\n",
    "\n",
    "with open(prediction_examples) as file:\n",
    "    \n",
    "    for prediction, text in zip(completed_process.stdout.split(\"\\n\")[:-1], file.readlines()):\n",
    "        print(f\"{prediction}\\t-- {text[:-1]}\")"
   ]
  },
  {
   "cell_type": "markdown",
   "metadata": {},
   "source": [
    "# Outlook\n",
    "\n",
    "## Labeling Functions\n",
    "- Access to more gold labels to be able find more unique/special structures for the several candidates\n",
    "- Add new labeling functions based on new insights\n",
    "- Consider further Spacy tags\n",
    "\n",
    "## General approaches\n",
    "- Fuzzy Search\n",
    "- Add examples for challenging error classes:\n",
    "    - References to hate speech comments\n",
    "    - Rhetorical questions\n",
    "\n"
   ]
  },
  {
   "cell_type": "markdown",
   "metadata": {},
   "source": [
    "# Our conclusion\n",
    "- Snorkel is best used if the structure of the target/hate speech candidate is well known\n",
    "- The structure can then be targeted with appropriate labeling functions\n",
    "- The trained generative model will create reasonable silver labels for input data"
   ]
  }
 ],
 "metadata": {
  "kernelspec": {
   "display_name": "Python (snorkel)",
   "language": "python",
   "name": "snorkel"
  },
  "language_info": {
   "codemirror_mode": {
    "name": "ipython",
    "version": 3
   },
   "file_extension": ".py",
   "mimetype": "text/x-python",
   "name": "python",
   "nbconvert_exporter": "python",
   "pygments_lexer": "ipython3",
   "version": "3.6.7"
  }
 },
 "nbformat": 4,
 "nbformat_minor": 2
}
