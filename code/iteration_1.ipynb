{
 "cells": [
  {
   "cell_type": "markdown",
   "metadata": {},
   "source": [
    "# Iteration 1 for NOHATE related NLP project\n",
    "\n",
    "- Christoph Geis-Schroer\n",
    "- Sebastian Jäger\n",
    "\n",
    "## Goal\n",
    "\n",
    "- create training dataset (labeled) with snorkel\n",
    "\n",
    "## Information\n",
    "\n",
    "- ~12k comments, different sources\n",
    "- 500 gold labels (at all, not per label)\n",
    "- German\n",
    "- different classes/types of hatespeech (e.g. Intelligenz, Beschimpfung, Entmenschlichung)\n",
    "\n",
    "\n",
    "## Notes\n",
    "\n",
    "- focus on full stack example\n",
    "- built Docker container because of issues with different OS (macOS/ Windows)\n",
    "\n",
    "\n"
   ]
  },
  {
   "cell_type": "markdown",
   "metadata": {},
   "source": [
    "\n",
    "\n",
    "## Bootstrapping\n",
    "\n",
    "imports, initialize snorkel session and connect to the database"
   ]
  },
  {
   "cell_type": "code",
   "execution_count": 1,
   "metadata": {},
   "outputs": [],
   "source": [
    "# reload external python files before Cell execution\n",
    "# -> prevent nasty bugs\n",
    "%load_ext autoreload\n",
    "%autoreload 2\n",
    "\n",
    "# matplotlib inline plotting\n",
    "%matplotlib inline\n",
    "\n",
    "# activate jupyters tab completion\n",
    "%config IPCompleter.greedy=True\n",
    "\n",
    "\n",
    "# bootstrapping -> imports and connect to database\n",
    "from utils.bootstrap import *"
   ]
  },
  {
   "cell_type": "markdown",
   "metadata": {},
   "source": [
    "\n",
    "## Preprocessing\n",
    "\n",
    "Parse test file corpus into documents and sentences"
   ]
  },
  {
   "cell_type": "code",
   "execution_count": 2,
   "metadata": {},
   "outputs": [
    {
     "name": "stdout",
     "output_type": "stream",
     "text": [
      "Clearing existing...\n",
      "Running UDF...\n",
      "CPU times: user 2min 1s, sys: 3.78 s, total: 2min 5s\n",
      "Wall time: 2min 10s\n"
     ]
    }
   ],
   "source": [
    "hate_speech_preprocessor = HateSpeechPreprocessor('../data/vico_user_comments.csv')\n",
    "corpus_parser = CorpusParser(parser=Spacy(lang=\"de\"))\n",
    "\n",
    "%time corpus_parser.apply(hate_speech_preprocessor)"
   ]
  },
  {
   "cell_type": "markdown",
   "metadata": {},
   "source": [
    "\n",
    "## Candidate Extraction\n",
    "\n",
    "Three different subclasses are used:\n",
    "\n",
    "- `Intelligenz_BB3c`\n",
    "\n",
    "- `Beschimpfung_BB6a`\n",
    "\n",
    "- `Entmenschlichung_BB6e`"
   ]
  },
  {
   "cell_type": "code",
   "execution_count": 3,
   "metadata": {},
   "outputs": [],
   "source": [
    "# Candidates are imported in bootstrapping-script"
   ]
  },
  {
   "cell_type": "markdown",
   "metadata": {},
   "source": [
    "\n",
    "### Create `CandidateExtractor` for each subclass\n",
    "\n",
    "Extraction is based on signal words that are often used. Use `RegexMatchEach` to find all potential candidates."
   ]
  },
  {
   "cell_type": "code",
   "execution_count": 4,
   "metadata": {},
   "outputs": [],
   "source": [
    "# imports the dictionaries with signal words\n",
    "from utils.dictionaries import *\n",
    "\n",
    "intelligenz_regex      = make_regex(intelligenz_signal_words)\n",
    "beschimpfung_regex     = make_regex(beschimpfung_signal_words)\n",
    "entmenschlichung_regex = make_regex(entmenschlichung_signal_words, animal_signal_words)\n",
    "\n",
    "candidate_regex_tupels = [\n",
    "    (Intelligenz_BB3c, intelligenz_regex),\n",
    "    (Beschimpfung_BB6a, beschimpfung_regex),\n",
    "    (Entmenschlichung_BB6e, entmenschlichung_regex)\n",
    "]\n",
    "        \n",
    "candidate_extractors = []\n",
    "\n",
    "for candidate_class, candidate_regex in candidate_regex_tupels:\n",
    "\n",
    "    n_grams             = Ngrams(n_max = 5)\n",
    "    matcher             = RegexMatchEach(rgx = candidate_regex)\n",
    "    candidate_extractor = CandidateExtractor(candidate_class, [n_grams], [matcher])\n",
    "        \n",
    "    candidate_extractors.append((candidate_class, candidate_extractor))"
   ]
  },
  {
   "cell_type": "markdown",
   "metadata": {},
   "source": [
    "\n",
    "### Split Data\n",
    "\n",
    "Split data into train/dev/test split with ratio: 80/10/10 %"
   ]
  },
  {
   "cell_type": "code",
   "execution_count": 5,
   "metadata": {},
   "outputs": [
    {
     "name": "stdout",
     "output_type": "stream",
     "text": [
      "Documents: 11715\n",
      "Sentences: 71041\n"
     ]
    }
   ],
   "source": [
    "documents = session.query(Document).order_by(Document.name).all()\n",
    "\n",
    "train_sentences = set()\n",
    "dev_sentences   = set()\n",
    "test_sentences  = set()\n",
    "\n",
    "for index, document in enumerate(documents):\n",
    "    for sentence in document.sentences:\n",
    "        if index % 10 == 8:\n",
    "            dev_sentences.add(sentence)\n",
    "        elif index % 10 == 9:\n",
    "            test_sentences.add(sentence)\n",
    "        else:\n",
    "            train_sentences.add(sentence)\n",
    "            \n",
    "print(\"Documents:\", session.query(Document).count())\n",
    "print(\"Sentences:\", session.query(Sentence).count())"
   ]
  },
  {
   "cell_type": "markdown",
   "metadata": {},
   "source": [
    "\n",
    "### Run extractors"
   ]
  },
  {
   "cell_type": "code",
   "execution_count": 6,
   "metadata": {},
   "outputs": [
    {
     "name": "stdout",
     "output_type": "stream",
     "text": [
      "Clearing database ...\n",
      "\n",
      "Extracting Candidates ...\n",
      "\n",
      "Running UDF...\n",
      "[========================================] 100%\n",
      "\n",
      "Number of Intelligenz candidates in split 0: 940\n",
      "\n",
      "\n",
      "Running UDF...\n",
      "[========================================] 100%\n",
      "\n",
      "Number of Intelligenz candidates in split 1: 144\n",
      "\n",
      "\n",
      "Running UDF...\n",
      "[========================================] 100%\n",
      "\n",
      "Number of Intelligenz candidates in split 2: 117\n",
      "\n",
      "\n",
      "Running UDF...\n",
      "[========================================] 100%\n",
      "\n",
      "Number of Beschimpfung candidates in split 0: 351\n",
      "\n",
      "\n",
      "Running UDF...\n",
      "[========================================] 100%\n",
      "\n",
      "Number of Beschimpfung candidates in split 1: 36\n",
      "\n",
      "\n",
      "Running UDF...\n",
      "[========================================] 100%\n",
      "\n",
      "Number of Beschimpfung candidates in split 2: 51\n",
      "\n",
      "\n",
      "Running UDF...\n",
      "[========================================] 100%\n",
      "\n",
      "Number of Entmenschlichung candidates in split 0: 440\n",
      "\n",
      "\n",
      "Running UDF...\n",
      "[========================================] 100%\n",
      "\n",
      "Number of Entmenschlichung candidates in split 1: 55\n",
      "\n",
      "\n",
      "Running UDF...\n",
      "[========================================] 100%\n",
      "\n",
      "Number of Entmenschlichung candidates in split 2: 54\n",
      "\n",
      "\n",
      "CPU times: user 2min 40s, sys: 1.75 s, total: 2min 41s\n",
      "Wall time: 2min 48s\n"
     ]
    }
   ],
   "source": [
    "%%time\n",
    "\n",
    "# delete all candidates\n",
    "print(\"Clearing database ...\\n\")\n",
    "\n",
    "if session.query(Candidate).count() != 0:\n",
    "    session.query(Candidate).delete()\n",
    "\n",
    "if session.query(Intelligenz_BB3c).count() != 0:\n",
    "    session.query(Intelligenz_BB3c).delete()\n",
    "        \n",
    "if session.query(Beschimpfung_BB6a).count() != 0:\n",
    "    session.query(Beschimpfung_BB6a).delete()\n",
    "\n",
    "if session.query(Entmenschlichung_BB6e).count() != 0:\n",
    "    session.query(Entmenschlichung_BB6e).delete()\n",
    "\n",
    "\n",
    "print(\"Extracting Candidates ...\\n\")\n",
    "\n",
    "for candidate_class, candidate_extractor in candidate_extractors:\n",
    "    for split, sentence in enumerate([train_sentences, dev_sentences, test_sentences]):\n",
    "            \n",
    "        candidate_extractor.apply(sentence, split=split, clear=False)\n",
    "        print(f\"Number of {candidate_class.__name__} candidates in split {split}: {session.query(candidate_class).filter(candidate_class.split == split).count()}\\n\\n\")"
   ]
  },
  {
   "cell_type": "markdown",
   "metadata": {},
   "source": [
    "\n",
    "### Some Further Notes\n",
    "\n",
    "Ideas to improve the Candidate Extraction Process\n",
    "\n",
    "- capital letters are all (input as well as regex) forced to be lower case. -> phrases like \"OHNE\" are not foundable based one only capital letters, at least with regex matcher\n",
    "- Use online Dicts for matching \"negative\" words .. (https://www.wertesysteme.de/nuetzliche-infos/arten-von-wertebegriffe/liste-negativer-werte/)\n",
    "- Fuzzy search"
   ]
  },
  {
   "cell_type": "markdown",
   "metadata": {},
   "source": [
    "\n",
    "## Labeling Functions\n",
    "\n",
    "1. create `Labeling Functions`\n",
    "2. collect into a list of `Labeling Functions`\n",
    "3. label all candidates in split 0 (train split)\n",
    "4. show some statistics"
   ]
  },
  {
   "cell_type": "code",
   "execution_count": 7,
   "metadata": {},
   "outputs": [
    {
     "name": "stdout",
     "output_type": "stream",
     "text": [
      "Clear existing ...\n",
      "Running UDF...\n",
      "[========================================] 100%\n",
      "\n",
      "Running UDF...\n",
      "[========================================] 100%\n",
      "\n",
      "Running UDF...\n",
      "[========================================] 100%\n",
      "\n",
      "[<940x5 sparse matrix of type '<class 'numpy.int64'>'\n",
      "\twith 1585 stored elements in Compressed Sparse Row format>, <351x4 sparse matrix of type '<class 'numpy.int64'>'\n",
      "\twith 560 stored elements in Compressed Sparse Row format>, <440x4 sparse matrix of type '<class 'numpy.int64'>'\n",
      "\twith 715 stored elements in Compressed Sparse Row format>]\n"
     ]
    }
   ],
   "source": [
    "from utils.labeling_functions import *\n",
    "\n",
    "L_train = []\n",
    "\n",
    "print(\"Clear existing ...\")\n",
    "## clear existing labels\n",
    "for index in range(len(candidate_classes)):\n",
    "    LabelAnnotator(lfs=[]).clear(session, split = 0, key_group = index)\n",
    "\n",
    "# hack to unlock database\n",
    "session.commit()\n",
    "\n",
    "for index, candidate_class in enumerate(candidate_classes):\n",
    "    L_train.append(LabelAnnotator(lfs=labeling_functions_all[index]).apply(split=0, key_group = index, clear = False, cids_query = session.query(candidate_class.id).filter(candidate_class.split == 0)))\n",
    "    \n",
    "print(L_train)"
   ]
  },
  {
   "cell_type": "markdown",
   "metadata": {},
   "source": [
    "* **Coverage** is the fraction of candidates that the labeling function emits a non-zero label for.\n",
    "* **Overlap** is the fraction candidates that the labeling function emits a non-zero label for and that another labeling function emits a non-zero label for.\n",
    "* **Conflict** is the fraction candidates that the labeling function emits a non-zero label for and that another labeling function emits a *conflicting* non-zero label for."
   ]
  },
  {
   "cell_type": "markdown",
   "metadata": {},
   "source": [
    "\n",
    "## Generativ Model\n",
    "\n",
    "Unify labeling functions to _model_ a generative model, which Snorkel will help to easily apply.\n",
    "This will ultimately produce a single set of **noise-aware training labels**. -> Technical details: [NIPS 2016 paper](https://arxiv.org/abs/1605.07723)\n",
    "\n",
    "1. train `GenerativeModel`\n",
    "2. \"predict\" labels for the train dataset\n",
    "3. save the marginals\n",
    "4. show some statistics\n",
    "\n",
    "\n",
    "### About the Terminology\n",
    "\n",
    "- Marginals: \"noise-aware training labels\"\n",
    "\n",
    "\n",
    "_**Parameter Definitions**_\n",
    "\n",
    "- **epochs:**     A single pass through all the data in your training set\n",
    "- **step_size:**  The factor by which we update model weights after computing the gradient\n",
    "- **decay:**      The rate our update factor dimishes (decay) over time."
   ]
  },
  {
   "cell_type": "code",
   "execution_count": 8,
   "metadata": {},
   "outputs": [
    {
     "name": "stdout",
     "output_type": "stream",
     "text": [
      "[<940x5 sparse matrix of type '<class 'numpy.int64'>'\n",
      "\twith 1585 stored elements in Compressed Sparse Row format>, <351x4 sparse matrix of type '<class 'numpy.int64'>'\n",
      "\twith 560 stored elements in Compressed Sparse Row format>, <440x4 sparse matrix of type '<class 'numpy.int64'>'\n",
      "\twith 715 stored elements in Compressed Sparse Row format>] \n",
      "\n",
      "Inferred cardinality: 2\n",
      "Class 1 Intelligenz -> 940\n",
      "Inferred cardinality: 2\n",
      "Class 2 Beschimpfung -> 351\n",
      "Inferred cardinality: 2\n",
      "Class 3 Entmenschlichung -> 440\n"
     ]
    }
   ],
   "source": [
    "L_train = []\n",
    "marginals = []\n",
    "generativ_models = []\n",
    "\n",
    "for index, candidate_class in enumerate(candidate_classes):\n",
    "    L_train.append(LabelAnnotator(lfs = []).load_matrix(session, split=0, key_group = index, cids_query = session.query(candidate_class.id).filter(candidate_class.split == 0)))\n",
    "\n",
    "print(L_train, \"\\n\")\n",
    "\n",
    "for index, candidate_classe in enumerate(candidate_classes):\n",
    "    generativ_models.append(GenerativeModel())\n",
    "\n",
    "    decay=0.95\n",
    "    epochs=100\n",
    "    reg_param=1e-6\n",
    "    step_size=0.1 / L_train[index].shape[0]\n",
    "\n",
    "    generativ_models[index].train(L_train[index], epochs = epochs, decay = decay, step_size = step_size, reg_param = reg_param)\n",
    "    marginals.append(generativ_models[index].marginals(L_train[index]))\n",
    "\n",
    "    print(f\"Class {index + 1} {candidate_classe.__name__} -> {len(marginals[index])}\")\n",
    "\n",
    "# Saving marginals in database is not possible because snorkel cannot distiguish (in database) the different candidate classes"
   ]
  },
  {
   "cell_type": "code",
   "execution_count": 9,
   "metadata": {},
   "outputs": [
    {
     "data": {
      "image/png": "[encoded data removed]",
      "text/plain": [
       "<Figure size 432x288 with 1 Axes>"
      ]
     },
     "metadata": {
      "needs_background": "light"
     },
     "output_type": "display_data"
    },
    {
     "data": {
      "image/png": "[encoded data removed]",
      "text/plain": [
       "<Figure size 432x288 with 1 Axes>"
      ]
     },
     "metadata": {
      "needs_background": "light"
     },
     "output_type": "display_data"
    },
    {
     "data": {
      "image/png": "[encoded data removed]",
      "text/plain": [
       "<Figure size 432x288 with 1 Axes>"
      ]
     },
     "metadata": {
      "needs_background": "light"
     },
     "output_type": "display_data"
    }
   ],
   "source": [
    "for marginal in marginals:\n",
    "    plt.hist(marginal, bins=20)\n",
    "    plt.show()"
   ]
  },
  {
   "cell_type": "code",
   "execution_count": 10,
   "metadata": {},
   "outputs": [
    {
     "data": {
      "text/html": [
       "<div>\n",
       "<style scoped>\n",
       "    .dataframe tbody tr th:only-of-type {\n",
       "        vertical-align: middle;\n",
       "    }\n",
       "\n",
       "    .dataframe tbody tr th {\n",
       "        vertical-align: top;\n",
       "    }\n",
       "\n",
       "    .dataframe thead th {\n",
       "        text-align: right;\n",
       "    }\n",
       "</style>\n",
       "<table border=\"1\" class=\"dataframe\">\n",
       "  <thead>\n",
       "    <tr style=\"text-align: right;\">\n",
       "      <th></th>\n",
       "      <th>Accuracy</th>\n",
       "      <th>Coverage</th>\n",
       "      <th>Precision</th>\n",
       "      <th>Recall</th>\n",
       "    </tr>\n",
       "  </thead>\n",
       "  <tbody>\n",
       "    <tr>\n",
       "      <th>0</th>\n",
       "      <td>0.492016</td>\n",
       "      <td>0.6701</td>\n",
       "      <td>0.480465</td>\n",
       "      <td>0.326510</td>\n",
       "    </tr>\n",
       "    <tr>\n",
       "      <th>1</th>\n",
       "      <td>0.340819</td>\n",
       "      <td>0.6813</td>\n",
       "      <td>0.339447</td>\n",
       "      <td>0.236319</td>\n",
       "    </tr>\n",
       "    <tr>\n",
       "      <th>2</th>\n",
       "      <td>0.909627</td>\n",
       "      <td>0.7801</td>\n",
       "      <td>0.908807</td>\n",
       "      <td>0.706931</td>\n",
       "    </tr>\n",
       "    <tr>\n",
       "      <th>3</th>\n",
       "      <td>0.507882</td>\n",
       "      <td>0.6661</td>\n",
       "      <td>0.508793</td>\n",
       "      <td>0.340089</td>\n",
       "    </tr>\n",
       "    <tr>\n",
       "      <th>4</th>\n",
       "      <td>0.540204</td>\n",
       "      <td>0.6753</td>\n",
       "      <td>0.532263</td>\n",
       "      <td>0.362789</td>\n",
       "    </tr>\n",
       "  </tbody>\n",
       "</table>\n",
       "</div>"
      ],
      "text/plain": [
       "   Accuracy  Coverage  Precision    Recall\n",
       "0  0.492016    0.6701   0.480465  0.326510\n",
       "1  0.340819    0.6813   0.339447  0.236319\n",
       "2  0.909627    0.7801   0.908807  0.706931\n",
       "3  0.507882    0.6661   0.508793  0.340089\n",
       "4  0.540204    0.6753   0.532263  0.362789"
      ]
     },
     "execution_count": 10,
     "metadata": {},
     "output_type": "execute_result"
    }
   ],
   "source": [
    "generativ_models[0].learned_lf_stats()"
   ]
  },
  {
   "cell_type": "code",
   "execution_count": 11,
   "metadata": {},
   "outputs": [
    {
     "data": {
      "text/html": [
       "<div>\n",
       "<style scoped>\n",
       "    .dataframe tbody tr th:only-of-type {\n",
       "        vertical-align: middle;\n",
       "    }\n",
       "\n",
       "    .dataframe tbody tr th {\n",
       "        vertical-align: top;\n",
       "    }\n",
       "\n",
       "    .dataframe thead th {\n",
       "        text-align: right;\n",
       "    }\n",
       "</style>\n",
       "<table border=\"1\" class=\"dataframe\">\n",
       "  <thead>\n",
       "    <tr style=\"text-align: right;\">\n",
       "      <th></th>\n",
       "      <th>Accuracy</th>\n",
       "      <th>Coverage</th>\n",
       "      <th>Precision</th>\n",
       "      <th>Recall</th>\n",
       "    </tr>\n",
       "  </thead>\n",
       "  <tbody>\n",
       "    <tr>\n",
       "      <th>0</th>\n",
       "      <td>0.500605</td>\n",
       "      <td>0.6608</td>\n",
       "      <td>0.493237</td>\n",
       "      <td>0.334080</td>\n",
       "    </tr>\n",
       "    <tr>\n",
       "      <th>1</th>\n",
       "      <td>0.383752</td>\n",
       "      <td>0.6684</td>\n",
       "      <td>0.377545</td>\n",
       "      <td>0.256718</td>\n",
       "    </tr>\n",
       "    <tr>\n",
       "      <th>2</th>\n",
       "      <td>0.922063</td>\n",
       "      <td>0.7814</td>\n",
       "      <td>0.919326</td>\n",
       "      <td>0.721498</td>\n",
       "    </tr>\n",
       "    <tr>\n",
       "      <th>3</th>\n",
       "      <td>0.511460</td>\n",
       "      <td>0.6632</td>\n",
       "      <td>0.499398</td>\n",
       "      <td>0.337948</td>\n",
       "    </tr>\n",
       "  </tbody>\n",
       "</table>\n",
       "</div>"
      ],
      "text/plain": [
       "   Accuracy  Coverage  Precision    Recall\n",
       "0  0.500605    0.6608   0.493237  0.334080\n",
       "1  0.383752    0.6684   0.377545  0.256718\n",
       "2  0.922063    0.7814   0.919326  0.721498\n",
       "3  0.511460    0.6632   0.499398  0.337948"
      ]
     },
     "execution_count": 11,
     "metadata": {},
     "output_type": "execute_result"
    }
   ],
   "source": [
    "generativ_models[1].learned_lf_stats()"
   ]
  },
  {
   "cell_type": "code",
   "execution_count": 12,
   "metadata": {},
   "outputs": [
    {
     "data": {
      "text/html": [
       "<div>\n",
       "<style scoped>\n",
       "    .dataframe tbody tr th:only-of-type {\n",
       "        vertical-align: middle;\n",
       "    }\n",
       "\n",
       "    .dataframe tbody tr th {\n",
       "        vertical-align: top;\n",
       "    }\n",
       "\n",
       "    .dataframe thead th {\n",
       "        text-align: right;\n",
       "    }\n",
       "</style>\n",
       "<table border=\"1\" class=\"dataframe\">\n",
       "  <thead>\n",
       "    <tr style=\"text-align: right;\">\n",
       "      <th></th>\n",
       "      <th>Accuracy</th>\n",
       "      <th>Coverage</th>\n",
       "      <th>Precision</th>\n",
       "      <th>Recall</th>\n",
       "    </tr>\n",
       "  </thead>\n",
       "  <tbody>\n",
       "    <tr>\n",
       "      <th>0</th>\n",
       "      <td>0.515092</td>\n",
       "      <td>0.6593</td>\n",
       "      <td>0.532135</td>\n",
       "      <td>0.337454</td>\n",
       "    </tr>\n",
       "    <tr>\n",
       "      <th>1</th>\n",
       "      <td>0.342882</td>\n",
       "      <td>0.6772</td>\n",
       "      <td>0.357873</td>\n",
       "      <td>0.230056</td>\n",
       "    </tr>\n",
       "    <tr>\n",
       "      <th>2</th>\n",
       "      <td>0.926626</td>\n",
       "      <td>0.7932</td>\n",
       "      <td>0.934446</td>\n",
       "      <td>0.735175</td>\n",
       "    </tr>\n",
       "    <tr>\n",
       "      <th>3</th>\n",
       "      <td>0.504167</td>\n",
       "      <td>0.6720</td>\n",
       "      <td>0.521905</td>\n",
       "      <td>0.342863</td>\n",
       "    </tr>\n",
       "  </tbody>\n",
       "</table>\n",
       "</div>"
      ],
      "text/plain": [
       "   Accuracy  Coverage  Precision    Recall\n",
       "0  0.515092    0.6593   0.532135  0.337454\n",
       "1  0.342882    0.6772   0.357873  0.230056\n",
       "2  0.926626    0.7932   0.934446  0.735175\n",
       "3  0.504167    0.6720   0.521905  0.342863"
      ]
     },
     "execution_count": 12,
     "metadata": {},
     "output_type": "execute_result"
    }
   ],
   "source": [
    "generativ_models[2].learned_lf_stats()"
   ]
  },
  {
   "cell_type": "markdown",
   "metadata": {},
   "source": [
    "### Some Further Notes\n",
    "\n",
    "- Use Grid Search (`RandomSearch`) -> Workshop 3"
   ]
  },
  {
   "cell_type": "markdown",
   "metadata": {},
   "source": [
    "\n",
    "\n",
    "## Creating a .txt-File suitable for FastText\n",
    "\n",
    "1. load candidates and corresponding marginals\n",
    "2. split by given 'threshold'\n",
    "3. add labels, so each line in the text-file starts with one of:\n",
    "    - \\_label\\_hatespeech\n",
    "    - \\_label\\_nohatespeech\n",
    "\n",
    "4. shuffel the lines and write as .txt file\n",
    "    "
   ]
  },
  {
   "cell_type": "code",
   "execution_count": 13,
   "metadata": {},
   "outputs": [],
   "source": [
    "# hand crafted based on above histograms\n",
    "dataset_lines = []\n",
    "\n",
    "for index, candidate_class in enumerate(candidate_classes):\n",
    "\n",
    "    marginals_split_0  = marginals[index]\n",
    "    candidates_split_0 = session.query(candidate_class).filter(candidate_class.split == 0).all()\n",
    "\n",
    "    hatespeech_sentences = []\n",
    "    no_hatespeech_sentences = []\n",
    "\n",
    "    for candidate, marginal in zip(candidates_split_0, marginals_split_0):\n",
    "        if marginal > marginals_split_0.mean():\n",
    "            hatespeech_sentences.append(f\"__label__hate\\t{candidate.get_parent().text}\")\n",
    "        else:\n",
    "            no_hatespeech_sentences.append(f\"__label__nohate\\t{candidate.get_parent().text}\")\n",
    "\n",
    "    dataset_lines.extend(hatespeech_sentences)\n",
    "    dataset_lines.extend(no_hatespeech_sentences)\n",
    "\n",
    "    # shuffel the lines\n",
    "    random.shuffle(dataset_lines)\n",
    "        \n",
    "# finally write dataset\n",
    "with open(\"../data/dataset_binary_classification_gesnorkelt.txt\", \"w\") as file:\n",
    "    file.writelines(\"\\n\".join(dataset_lines))"
   ]
  },
  {
   "cell_type": "markdown",
   "metadata": {},
   "source": [
    "\n",
    "\n",
    "## Convert Gold Labeled Testset\n",
    "\n",
    "Actual classes are: \n",
    "\n",
    "- Intelligenz (BB3c)\n",
    "- Beschimpfung (BB6a)\n",
    "- Entmenschlichung (BB6e)\n",
    "\n",
    "If one of these clases set -> hatespeech"
   ]
  },
  {
   "cell_type": "code",
   "execution_count": 9,
   "metadata": {},
   "outputs": [],
   "source": [
    "gold_labeled_test_set = pd.read_csv(\"../data/comments_bewertungen_fu_berlin_original.csv\")"
   ]
  },
  {
   "cell_type": "code",
   "execution_count": 10,
   "metadata": {},
   "outputs": [],
   "source": [
    "select_classes = (gold_labeled_test_set[\"BB3c\"] == \"1\") | (gold_labeled_test_set[\"BB6a\"] == \"1\") | (gold_labeled_test_set[\"BB6e\"] == \"1\") | (gold_labeled_test_set[\"BB3i\"] == \"1\") | (gold_labeled_test_set[\"BB4\"] == \"11\") | (gold_labeled_test_set[\"BB4\"] == \"12\") | (gold_labeled_test_set[\"BB4\"] == \"13\")\n",
    "\n",
    "hate_speech_comments =    gold_labeled_test_set[select_classes]\n",
    "no_hate_speech_comments = gold_labeled_test_set[select_classes == False] # all others"
   ]
  },
  {
   "cell_type": "code",
   "execution_count": 11,
   "metadata": {},
   "outputs": [],
   "source": [
    "lines = [f\"__label__hate\\t{item}\" for item in hate_speech_comments[\"b_string\"]]\n",
    "lines.extend([f\"__label__nohate\\t{item}\" for item in no_hate_speech_comments[\"b_string\"]])"
   ]
  },
  {
   "cell_type": "code",
   "execution_count": 12,
   "metadata": {},
   "outputs": [],
   "source": [
    "with open(\"../data/gold_label_testset_binary_by_dimension.txt\", \"w\") as file:\n",
    "    file.writelines(\"\\n\".join(lines))"
   ]
  },
  {
   "cell_type": "markdown",
   "metadata": {},
   "source": [
    "\n",
    "# Fasttext Baseline\n",
    "\n",
    "## Train Fasttext Classification"
   ]
  },
  {
   "cell_type": "code",
   "execution_count": 18,
   "metadata": {},
   "outputs": [
    {
     "name": "stderr",
     "output_type": "stream",
     "text": [
      "Read 0M words\n",
      "Number of words:  8556\n",
      "Number of labels: 2\n",
      "Progress: 100.0% words/sec/thread:  169794 lr:  0.000000 loss:  0.127194 ETA:   0h 0m\n"
     ]
    }
   ],
   "source": [
    "%%bash\n",
    "\n",
    "fasttext supervised -input ../data/dataset_binary_classification_gesnorkelt.txt -output fasttext_model_binary_classification"
   ]
  },
  {
   "cell_type": "code",
   "execution_count": 19,
   "metadata": {},
   "outputs": [
    {
     "name": "stdout",
     "output_type": "stream",
     "text": [
      "N\t500\n",
      "P@1\t0.284\n",
      "R@1\t0.284\n"
     ]
    }
   ],
   "source": [
    "%%bash\n",
    "\n",
    "fasttext test fasttext_model_binary_classification.bin ../data/gold_label_testset.txt"
   ]
  },
  {
   "cell_type": "code",
   "execution_count": 20,
   "metadata": {},
   "outputs": [
    {
     "name": "stdout",
     "output_type": "stream",
     "text": [
      "Some testing sentences ...\n",
      "\n",
      "Eine junge Frau verlässt Deutschland, weil Deutschland mal wieder jedes kriminelle Assipack reinspazieren lässt.\n",
      "Der hat doch den A.... offen.\n",
      "Linker Abschaum\n",
      "Ich mag alle menschen auch asylaten!\n",
      "Dieser Schrott soll garnicht erst nach Deutschland hereingelassen werden\n",
      "Liebe <3\n",
      "Noch ein langweiliger Satz.\n",
      "\n",
      "__label__hate\n",
      "__label__hate\n",
      "__label__hate\n",
      "__label__hate\n",
      "__label__hate\n",
      "__label__hate\n",
      "__label__nohate\n"
     ]
    }
   ],
   "source": [
    "%%bash\n",
    "\n",
    "echo \"Some testing sentences ...\"\n",
    "echo\n",
    "cat ../data/for_example_predictions.txt\n",
    "echo; echo\n",
    "\n",
    "\n",
    "fasttext predict fasttext_model_binary_classification.bin ../data/for_example_predictions.txt"
   ]
  },
  {
   "cell_type": "markdown",
   "metadata": {},
   "source": [
    "# Next Steps (Ideas)\n",
    "\n",
    "- improve candidate extraction\n",
    "    - include all three labels in the labeled training data set\n",
    "- write (more) labeling functions\n",
    "- improve generative model\n",
    "- create proper baseline model with FastText\n",
    "- include more hate speech classes\n",
    "\n",
    "\n",
    "- maybe other models \n",
    "\n",
    "- error classes:\n",
    "    - quoting hate speech\n",
    "    - usernames with hate speech content\n",
    "    - self-offense\n",
    "\n",
    "- find useful lists\n",
    "- class distribution of labeled data\n",
    "- list of comments we aren't sure about\n"
   ]
  }
 ],
 "metadata": {
  "kernelspec": {
   "display_name": "Python (snorkel)",
   "language": "python",
   "name": "snorkel"
  },
  "language_info": {
   "codemirror_mode": {
    "name": "ipython",
    "version": 3
   },
   "file_extension": ".py",
   "mimetype": "text/x-python",
   "name": "python",
   "nbconvert_exporter": "python",
   "pygments_lexer": "ipython3",
   "version": "3.6.7"
  }
 },
 "nbformat": 4,
 "nbformat_minor": 2
}
